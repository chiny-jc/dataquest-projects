{
 "cells": [
  {
   "cell_type": "markdown",
   "metadata": {},
   "source": [
    "# Profitable App Profiles for the App Store and Google Play Markets"
   ]
  },
  {
   "cell_type": "markdown",
   "metadata": {},
   "source": [
    "In this project, we want to analyze data from the Google Play Store and the App Store to find the best type of apps that will generate the most profit out of advertising revenue. For this specific case, the apps with the most users would be the ones to bring about the most income. \n",
    "\n",
    "We will be analyzing only the free English apps, as that is our target market. "
   ]
  },
  {
   "cell_type": "markdown",
   "metadata": {},
   "source": [
    "-----------"
   ]
  },
  {
   "cell_type": "markdown",
   "metadata": {},
   "source": [
    "## Opening and exploring the data"
   ]
  },
  {
   "cell_type": "markdown",
   "metadata": {},
   "source": [
    "We import the library that we will be using to open the files."
   ]
  },
  {
   "cell_type": "code",
   "execution_count": 1,
   "metadata": {},
   "outputs": [],
   "source": [
    "from csv import reader"
   ]
  },
  {
   "cell_type": "markdown",
   "metadata": {},
   "source": [
    "### Opening the files"
   ]
  },
  {
   "cell_type": "markdown",
   "metadata": {},
   "source": [
    "Apple Store file (more information can be found [here](https://www.kaggle.com/ramamet4/app-store-apple-data-set-10k-apps)):"
   ]
  },
  {
   "cell_type": "code",
   "execution_count": 2,
   "metadata": {},
   "outputs": [],
   "source": [
    "opened_file = open('AppleStore.csv', encoding='utf8')\n",
    "read_file = reader(opened_file)\n",
    "app_store_dataset = list(read_file)\n",
    "opened_file.close()"
   ]
  },
  {
   "cell_type": "markdown",
   "metadata": {},
   "source": [
    "Google Pay Store file (more information can be found [here](https://www.kaggle.com/lava18/google-play-store-apps).):"
   ]
  },
  {
   "cell_type": "code",
   "execution_count": 3,
   "metadata": {},
   "outputs": [],
   "source": [
    "opened_file = open('GooglePlayStore.csv', encoding='utf8')\n",
    "read_file = reader(opened_file)\n",
    "google_store_dataset = list(read_file)\n",
    "opened_file.close()"
   ]
  },
  {
   "cell_type": "markdown",
   "metadata": {},
   "source": [
    "### Exploring the datasets"
   ]
  },
  {
   "cell_type": "markdown",
   "metadata": {},
   "source": [
    "We create a function that will print the first five rows, as well as the total number of rows and columns in the dataset."
   ]
  },
  {
   "cell_type": "code",
   "execution_count": 4,
   "metadata": {},
   "outputs": [],
   "source": [
    "def explore_dataset(dataset, start=0, end=5, rows_and_columns=True):\n",
    "    dataset_slice = dataset[start:end]  \n",
    "    print('Rows:')\n",
    "    for row in dataset_slice:\n",
    "        print(row)\n",
    "        \n",
    "    if rows_and_columns:\n",
    "        print('\\n')\n",
    "        print('Number of rows:', len(dataset))\n",
    "        print('Number of columns:', len(dataset[0]))"
   ]
  },
  {
   "cell_type": "markdown",
   "metadata": {},
   "source": [
    "#### Apple Store dataset:"
   ]
  },
  {
   "cell_type": "markdown",
   "metadata": {},
   "source": [
    "We create a variable for the header and another for the body of the data. We then print the header and use our function to explore the data."
   ]
  },
  {
   "cell_type": "code",
   "execution_count": 5,
   "metadata": {},
   "outputs": [
    {
     "name": "stdout",
     "output_type": "stream",
     "text": [
      "Header: \n",
      "['id', 'track_name', 'size_bytes', 'currency', 'price', 'rating_count_tot', 'rating_count_ver', 'user_rating', 'user_rating_ver', 'ver', 'cont_rating', 'prime_genre', 'sup_devices.num', 'ipadSc_urls.num', 'lang.num', 'vpp_lic']\n",
      "\n",
      "Rows:\n",
      "['284882215', 'Facebook', '389879808', 'USD', '0.0', '2974676', '212', '3.5', '3.5', '95.0', '4+', 'Social Networking', '37', '1', '29', '1']\n",
      "['389801252', 'Instagram', '113954816', 'USD', '0.0', '2161558', '1289', '4.5', '4.0', '10.23', '12+', 'Photo & Video', '37', '0', '29', '1']\n",
      "['529479190', 'Clash of Clans', '116476928', 'USD', '0.0', '2130805', '579', '4.5', '4.5', '9.24.12', '9+', 'Games', '38', '5', '18', '1']\n",
      "['420009108', 'Temple Run', '65921024', 'USD', '0.0', '1724546', '3842', '4.5', '4.0', '1.6.2', '9+', 'Games', '40', '5', '1', '1']\n",
      "['284035177', 'Pandora - Music & Radio', '130242560', 'USD', '0.0', '1126879', '3594', '4.0', '4.5', '8.4.1', '12+', 'Music', '37', '4', '1', '1']\n",
      "\n",
      "\n",
      "Number of rows: 7197\n",
      "Number of columns: 16\n"
     ]
    }
   ],
   "source": [
    "app_store_header, app_store_data = app_store_dataset[0], app_store_dataset[1:]\n",
    "\n",
    "print('Header: \\n{}\\n'.format(app_store_header))\n",
    "\n",
    "explore_dataset(app_store_data)"
   ]
  },
  {
   "cell_type": "markdown",
   "metadata": {},
   "source": [
    "#### Google Play Store dataset:"
   ]
  },
  {
   "cell_type": "markdown",
   "metadata": {},
   "source": [
    "Same as before, we create a variable for the header and another for the body of the data. We then print the header and use our function to explore the data."
   ]
  },
  {
   "cell_type": "code",
   "execution_count": 6,
   "metadata": {},
   "outputs": [
    {
     "name": "stdout",
     "output_type": "stream",
     "text": [
      "Header: \n",
      "['App', 'Category', 'Rating', 'Reviews', 'Size', 'Installs', 'Type', 'Price', 'Content Rating', 'Genres', 'Last Updated', 'Current Ver', 'Android Ver']\n",
      "\n",
      "Rows:\n",
      "['Photo Editor & Candy Camera & Grid & ScrapBook', 'ART_AND_DESIGN', '4.1', '159', '19M', '10,000+', 'Free', '0', 'Everyone', 'Art & Design', 'January 7, 2018', '1.0.0', '4.0.3 and up']\n",
      "['Coloring book moana', 'ART_AND_DESIGN', '3.9', '967', '14M', '500,000+', 'Free', '0', 'Everyone', 'Art & Design;Pretend Play', 'January 15, 2018', '2.0.0', '4.0.3 and up']\n",
      "['U Launcher Lite – FREE Live Cool Themes, Hide Apps', 'ART_AND_DESIGN', '4.7', '87510', '8.7M', '5,000,000+', 'Free', '0', 'Everyone', 'Art & Design', 'August 1, 2018', '1.2.4', '4.0.3 and up']\n",
      "['Sketch - Draw & Paint', 'ART_AND_DESIGN', '4.5', '215644', '25M', '50,000,000+', 'Free', '0', 'Teen', 'Art & Design', 'June 8, 2018', 'Varies with device', '4.2 and up']\n",
      "['Pixel Draw - Number Art Coloring Book', 'ART_AND_DESIGN', '4.3', '967', '2.8M', '100,000+', 'Free', '0', 'Everyone', 'Art & Design;Creativity', 'June 20, 2018', '1.1', '4.4 and up']\n",
      "\n",
      "\n",
      "Number of rows: 10841\n",
      "Number of columns: 13\n"
     ]
    }
   ],
   "source": [
    "google_store_header, google_store_data = google_store_dataset[0], google_store_dataset[1:]\n",
    "\n",
    "print('Header: \\n{}\\n'.format(google_store_header))\n",
    "\n",
    "explore_dataset(google_store_data)"
   ]
  },
  {
   "cell_type": "markdown",
   "metadata": {},
   "source": [
    "--------------"
   ]
  },
  {
   "cell_type": "markdown",
   "metadata": {},
   "source": [
    "## Cleaning the data"
   ]
  },
  {
   "cell_type": "markdown",
   "metadata": {},
   "source": [
    "### Finding missing data"
   ]
  },
  {
   "cell_type": "markdown",
   "metadata": {},
   "source": [
    "We create a function that will get the number of elements in each row to see if there is any missing data."
   ]
  },
  {
   "cell_type": "code",
   "execution_count": 7,
   "metadata": {},
   "outputs": [],
   "source": [
    "def find_missing_data(data, num_columns):\n",
    "    is_missing = False\n",
    "    row_index = 0\n",
    "    for row in data:\n",
    "        if len(row) != num_columns:\n",
    "            is_missing = True\n",
    "            print(row_index, row)\n",
    "        row_index += 1\n",
    "    if not is_missing:\n",
    "        print('No missing values found.')"
   ]
  },
  {
   "cell_type": "markdown",
   "metadata": {},
   "source": [
    "#### Apple Store data:"
   ]
  },
  {
   "cell_type": "markdown",
   "metadata": {},
   "source": [
    "We get the number of columns that the App Store data has by looking at the number of elements in the header. Then we use our function to find missing data on the App Store data and we don't find any missing values."
   ]
  },
  {
   "cell_type": "code",
   "execution_count": 8,
   "metadata": {},
   "outputs": [
    {
     "name": "stdout",
     "output_type": "stream",
     "text": [
      "No missing values found.\n"
     ]
    }
   ],
   "source": [
    "num_columns = len(app_store_header)\n",
    "find_missing_data(app_store_data, num_columns)"
   ]
  },
  {
   "cell_type": "markdown",
   "metadata": {},
   "source": [
    "#### Google Play Store data:"
   ]
  },
  {
   "cell_type": "markdown",
   "metadata": {},
   "source": [
    "We get the number of columns that the Google Store data has by looking at the number of elements in the header. Then we use our function to find missing data on the Google Store and we do find a row that has less elements and an empty value."
   ]
  },
  {
   "cell_type": "code",
   "execution_count": 9,
   "metadata": {},
   "outputs": [
    {
     "name": "stdout",
     "output_type": "stream",
     "text": [
      "10472 ['Life Made WI-Fi Touchscreen Photo Frame', '1.9', '19', '3.0M', '1,000+', 'Free', '0', 'Everyone', '', 'February 11, 2018', '1.0.19', '4.0 and up']\n"
     ]
    }
   ],
   "source": [
    "num_columns = len(google_store_header)\n",
    "find_missing_data(google_store_data, num_columns)"
   ]
  },
  {
   "cell_type": "markdown",
   "metadata": {},
   "source": [
    "We proceed to delete this row, as its missing data might affect our analysis. "
   ]
  },
  {
   "cell_type": "code",
   "execution_count": 10,
   "metadata": {},
   "outputs": [],
   "source": [
    "del google_store_data[10472]"
   ]
  },
  {
   "cell_type": "markdown",
   "metadata": {},
   "source": [
    "### Finding duplicates"
   ]
  },
  {
   "cell_type": "markdown",
   "metadata": {},
   "source": [
    "We create a function that will find all the duplicate apps in the data and return a list with their names."
   ]
  },
  {
   "cell_type": "code",
   "execution_count": 11,
   "metadata": {},
   "outputs": [],
   "source": [
    "def find_duplicates(data, column_index):\n",
    "    unique_apps = []\n",
    "    duplicate_apps = []\n",
    "    \n",
    "    for row in data:\n",
    "        app = row[column_index]\n",
    "        if app not in unique_apps:\n",
    "            unique_apps.append(app)\n",
    "        else:\n",
    "            duplicate_apps.append(app)\n",
    "            \n",
    "    return duplicate_apps"
   ]
  },
  {
   "cell_type": "markdown",
   "metadata": {},
   "source": [
    "#### Apple Store data:"
   ]
  },
  {
   "cell_type": "markdown",
   "metadata": {},
   "source": [
    "We use our function to find the duplicate apps and print their names."
   ]
  },
  {
   "cell_type": "code",
   "execution_count": 12,
   "metadata": {},
   "outputs": [
    {
     "name": "stdout",
     "output_type": "stream",
     "text": [
      "['Mannequin Challenge', 'VR Roller Coaster']\n"
     ]
    }
   ],
   "source": [
    "duplicates = find_duplicates(app_store_data, 1)\n",
    "print(duplicates)"
   ]
  },
  {
   "cell_type": "markdown",
   "metadata": {},
   "source": [
    "We now loop through the whole App Store data and print the apps that are duplicated. We can see that there are two of each. "
   ]
  },
  {
   "cell_type": "code",
   "execution_count": 13,
   "metadata": {},
   "outputs": [
    {
     "name": "stdout",
     "output_type": "stream",
     "text": [
      "2948 ['1173990889', 'Mannequin Challenge', '109705216', 'USD', '0.0', '668', '87', '3.0', '3.0', '1.4', '9+', 'Games', '37', '4', '1', '1']\n",
      "4442 ['952877179', 'VR Roller Coaster', '169523200', 'USD', '0.0', '107', '102', '3.5', '3.5', '2.0.0', '4+', 'Games', '37', '5', '1', '1']\n",
      "4463 ['1178454060', 'Mannequin Challenge', '59572224', 'USD', '0.0', '105', '58', '4.0', '4.5', '1.0.1', '4+', 'Games', '38', '5', '1', '1']\n",
      "4831 ['1089824278', 'VR Roller Coaster', '240964608', 'USD', '0.0', '67', '44', '3.5', '4.0', '0.81', '4+', 'Games', '38', '0', '1', '1']\n"
     ]
    }
   ],
   "source": [
    "row_index = 0\n",
    "for row in app_store_data:\n",
    "    if row[1] in duplicates:\n",
    "        print(row_index, row)\n",
    "    row_index += 1"
   ]
  },
  {
   "cell_type": "markdown",
   "metadata": {},
   "source": [
    "We delete one of the duplicates of each app and we use the app version as the criteria; we remove the app with the oldest version. We print the row before deleting, just to make sure we are deleting the correct row. "
   ]
  },
  {
   "cell_type": "code",
   "execution_count": 14,
   "metadata": {},
   "outputs": [
    {
     "name": "stdout",
     "output_type": "stream",
     "text": [
      "['1178454060', 'Mannequin Challenge', '59572224', 'USD', '0.0', '105', '58', '4.0', '4.5', '1.0.1', '4+', 'Games', '38', '5', '1', '1']\n",
      "['1089824278', 'VR Roller Coaster', '240964608', 'USD', '0.0', '67', '44', '3.5', '4.0', '0.81', '4+', 'Games', '38', '0', '1', '1']\n"
     ]
    }
   ],
   "source": [
    "print(app_store_data[4463])\n",
    "del app_store_data[4463]\n",
    "\n",
    "print(app_store_data[4830])\n",
    "del app_store_data[4830]"
   ]
  },
  {
   "cell_type": "markdown",
   "metadata": {},
   "source": [
    "#### Google Play Store data:"
   ]
  },
  {
   "cell_type": "markdown",
   "metadata": {},
   "source": [
    "We use our function to find the duplicates, but this time we decide to print the number of duplicate apps, as there are many."
   ]
  },
  {
   "cell_type": "code",
   "execution_count": 15,
   "metadata": {},
   "outputs": [
    {
     "name": "stdout",
     "output_type": "stream",
     "text": [
      "Num. of duplicate apps: 1181\n"
     ]
    }
   ],
   "source": [
    "duplicates = find_duplicates(google_store_data, 0)\n",
    "print('Num. of duplicate apps: {}'.format(len(duplicates)))"
   ]
  },
  {
   "cell_type": "markdown",
   "metadata": {},
   "source": [
    "We do a quick check to find how many duplicates of the app 'Instagram' there are. "
   ]
  },
  {
   "cell_type": "code",
   "execution_count": 16,
   "metadata": {},
   "outputs": [
    {
     "name": "stdout",
     "output_type": "stream",
     "text": [
      "2545 ['Instagram', 'SOCIAL', '4.5', '66577313', 'Varies with device', '1,000,000,000+', 'Free', '0', 'Teen', 'Social', 'July 31, 2018', 'Varies with device', 'Varies with device']\n",
      "2604 ['Instagram', 'SOCIAL', '4.5', '66577446', 'Varies with device', '1,000,000,000+', 'Free', '0', 'Teen', 'Social', 'July 31, 2018', 'Varies with device', 'Varies with device']\n",
      "2611 ['Instagram', 'SOCIAL', '4.5', '66577313', 'Varies with device', '1,000,000,000+', 'Free', '0', 'Teen', 'Social', 'July 31, 2018', 'Varies with device', 'Varies with device']\n",
      "3909 ['Instagram', 'SOCIAL', '4.5', '66509917', 'Varies with device', '1,000,000,000+', 'Free', '0', 'Teen', 'Social', 'July 31, 2018', 'Varies with device', 'Varies with device']\n"
     ]
    }
   ],
   "source": [
    "row_index = 0\n",
    "for row in google_store_data:\n",
    "    if row[0] == 'Instagram':\n",
    "        print(row_index, row)\n",
    "    row_index += 1"
   ]
  },
  {
   "cell_type": "markdown",
   "metadata": {},
   "source": [
    "Now we do another quick check to find how many duplicates of the app 'WhatsApp Messenger' there are."
   ]
  },
  {
   "cell_type": "code",
   "execution_count": 17,
   "metadata": {},
   "outputs": [
    {
     "name": "stdout",
     "output_type": "stream",
     "text": [
      "336 ['WhatsApp Messenger', 'COMMUNICATION', '4.4', '69119316', 'Varies with device', '1,000,000,000+', 'Free', '0', 'Everyone', 'Communication', 'August 3, 2018', 'Varies with device', 'Varies with device']\n",
      "381 ['WhatsApp Messenger', 'COMMUNICATION', '4.4', '69119316', 'Varies with device', '1,000,000,000+', 'Free', '0', 'Everyone', 'Communication', 'August 3, 2018', 'Varies with device', 'Varies with device']\n",
      "3904 ['WhatsApp Messenger', 'COMMUNICATION', '4.4', '69109672', 'Varies with device', '1,000,000,000+', 'Free', '0', 'Everyone', 'Communication', 'August 3, 2018', 'Varies with device', 'Varies with device']\n"
     ]
    }
   ],
   "source": [
    "row_index = 0\n",
    "for row in google_store_data:\n",
    "    if row[0] == 'WhatsApp Messenger':\n",
    "        print(row_index, row)\n",
    "    row_index += 1"
   ]
  },
  {
   "cell_type": "markdown",
   "metadata": {},
   "source": [
    "In order to delete the duplicates, we decide to use another criteria this time. We will leave the apps with the highest number of reviews, meaning that they are possibly the most recent versions. \n",
    "\n",
    "To do this, we loop through the data and create a dictionary with the unique app names and store the highest number of reviews for each unique app. "
   ]
  },
  {
   "cell_type": "code",
   "execution_count": 18,
   "metadata": {},
   "outputs": [],
   "source": [
    "unique_apps_max_reviews = {}\n",
    "\n",
    "for row in google_store_data:\n",
    "    app_name = row[0]\n",
    "    num_reviews = float(row[3])\n",
    "    if (app_name in unique_apps_max_reviews) and (unique_apps_max_reviews[app_name] < num_reviews):\n",
    "        unique_apps_max_reviews[app_name] = num_reviews\n",
    "    if app_name not in unique_apps_max_reviews:\n",
    "        unique_apps_max_reviews[app_name] = num_reviews"
   ]
  },
  {
   "cell_type": "markdown",
   "metadata": {},
   "source": [
    "Now we print the data stored in the dictionary for 'Instagram' and 'WhatsApp Messenger' to confirm that it did store the highest number of reviews, as we can compare with the numbers above."
   ]
  },
  {
   "cell_type": "code",
   "execution_count": 19,
   "metadata": {},
   "outputs": [
    {
     "name": "stdout",
     "output_type": "stream",
     "text": [
      "App: Instagram, Max. Reviews: 66577446.0\n",
      "App: WhatsApp Messenger, Max. Reviews: 69119316.0\n"
     ]
    }
   ],
   "source": [
    "print('App: Instagram, Max. Reviews: {}'.format(unique_apps_max_reviews['Instagram']))\n",
    "print('App: WhatsApp Messenger, Max. Reviews: {}'.format(unique_apps_max_reviews['WhatsApp Messenger']))"
   ]
  },
  {
   "cell_type": "markdown",
   "metadata": {},
   "source": [
    "We decide to create a new clean dataset, instead of deleting each duplicate, as it is easier to do. So we loop through the data and store in the new dataset the rows that match with the data in the dictionary, meaning that it only stores the apps once and the ones with the highest number of reviews."
   ]
  },
  {
   "cell_type": "code",
   "execution_count": 20,
   "metadata": {},
   "outputs": [],
   "source": [
    "clean_google_store_data = []\n",
    "already_added = []\n",
    "\n",
    "for row in google_store_data:\n",
    "    app_name = row[0]\n",
    "    num_reviews = float(row[3])\n",
    "    if (num_reviews == unique_apps_max_reviews[app_name]) and (app_name not in already_added):\n",
    "        clean_google_store_data.append(row)\n",
    "        already_added.append(app_name)"
   ]
  },
  {
   "cell_type": "markdown",
   "metadata": {},
   "source": [
    "We use our function to find duplicates in the new clean dataset to check if everything worked fine. We then print the total number of unique apps.  "
   ]
  },
  {
   "cell_type": "code",
   "execution_count": 21,
   "metadata": {},
   "outputs": [
    {
     "name": "stdout",
     "output_type": "stream",
     "text": [
      "Num. of duplicate apps: 0\n",
      "Num. of unique apps: 9659\n"
     ]
    }
   ],
   "source": [
    "duplicates = find_duplicates(clean_google_store_data, 0)\n",
    "print('Num. of duplicate apps: {}'.format(len(duplicates)))\n",
    "print('Num. of unique apps: {}'.format(len(clean_google_store_data)))"
   ]
  },
  {
   "cell_type": "markdown",
   "metadata": {},
   "source": [
    "### Finding the non-English apps"
   ]
  },
  {
   "cell_type": "markdown",
   "metadata": {},
   "source": [
    "We create a function that will check if a string is in English by looking at the characters and their ASCII value. If there are more than three non-English characters, we will assume that the text is not in English. "
   ]
  },
  {
   "cell_type": "code",
   "execution_count": 22,
   "metadata": {},
   "outputs": [],
   "source": [
    "def is_english(string):\n",
    "    non_english_count = 0\n",
    "    for char in string:\n",
    "        char_num = ord(char)\n",
    "        if char_num > 127:\n",
    "            non_english_count += 1\n",
    "        if non_english_count > 3:\n",
    "            return False\n",
    "    return True"
   ]
  },
  {
   "cell_type": "markdown",
   "metadata": {},
   "source": [
    "#### Apple Store data:"
   ]
  },
  {
   "cell_type": "markdown",
   "metadata": {},
   "source": [
    "We loop through the data and check if the name of the app is in English or not; if it is, we add the whole row to a new English dataset, if it isn't, we store the name in another list for reference. "
   ]
  },
  {
   "cell_type": "code",
   "execution_count": 23,
   "metadata": {},
   "outputs": [],
   "source": [
    "english_app_store_data = []\n",
    "non_english_apps = []\n",
    "\n",
    "for row in app_store_data:\n",
    "    app_name = row[1]\n",
    "    is_english_app = is_english(app_name)\n",
    "    if is_english_app:\n",
    "        english_app_store_data.append(row)\n",
    "    else:\n",
    "        non_english_apps.append(app_name)"
   ]
  },
  {
   "cell_type": "markdown",
   "metadata": {},
   "source": [
    "We now print the name of the first non-English apps to see if the names are really not in English. We then print the number of non-English and English apps for reference. "
   ]
  },
  {
   "cell_type": "code",
   "execution_count": 24,
   "metadata": {},
   "outputs": [
    {
     "name": "stdout",
     "output_type": "stream",
     "text": [
      "['爱奇艺PPS -《欢乐颂2》电视剧热播', '聚力视频HD-人民的名义,跨界歌王全网热播', '优酷视频', '网易新闻 - 精选好内容，算出你的兴趣', '淘宝 - 随时随地，想淘就淘']\n",
      "\n",
      "Num. of non-English apps: 1014\n",
      "Num. of English apps: 6181\n"
     ]
    }
   ],
   "source": [
    "print(non_english_apps[:5])\n",
    "print('\\nNum. of non-English apps: {}'.format(len(non_english_apps)))\n",
    "print('Num. of English apps: {}'.format(len(english_app_store_data)))"
   ]
  },
  {
   "cell_type": "markdown",
   "metadata": {},
   "source": [
    "#### Google Play Store data:"
   ]
  },
  {
   "cell_type": "markdown",
   "metadata": {},
   "source": [
    "Same as before, we loop through the data and check if the name of the app is in English or not; if it is, we add the whole row to a new English dataset, if it isn't, we store the name in another list for reference. "
   ]
  },
  {
   "cell_type": "code",
   "execution_count": 25,
   "metadata": {},
   "outputs": [],
   "source": [
    "english_google_store_data = []\n",
    "non_english_apps = []\n",
    "\n",
    "for row in clean_google_store_data:\n",
    "    app_name = row[0]\n",
    "    is_english_app = is_english(app_name)\n",
    "    if is_english_app:\n",
    "        english_google_store_data.append(row)\n",
    "    else:\n",
    "        non_english_apps.append(app_name)"
   ]
  },
  {
   "cell_type": "markdown",
   "metadata": {},
   "source": [
    "Like before, we print the name of the first non-English apps to see if the names are really not in English and then we print the number of non-English and English apps for reference."
   ]
  },
  {
   "cell_type": "code",
   "execution_count": 26,
   "metadata": {},
   "outputs": [
    {
     "name": "stdout",
     "output_type": "stream",
     "text": [
      "['Flame - درب عقلك يوميا', 'သိင်္ Astrology - Min Thein Kha BayDin', 'РИА Новости', 'صور حرف H', 'L.POINT - 엘포인트 [ 포인트, 멤버십, 적립, 사용, 모바일 카드, 쿠폰, 롯데]']\n",
      "\n",
      "Num. of non-English apps: 45\n",
      "Num. of English apps: 9614\n"
     ]
    }
   ],
   "source": [
    "print(non_english_apps[:5])\n",
    "print('\\nNum. of non-English apps: {}'.format(len(non_english_apps)))\n",
    "print('Num. of English apps: {}'.format(len(english_google_store_data)))"
   ]
  },
  {
   "cell_type": "markdown",
   "metadata": {},
   "source": [
    "### Finding the free apps"
   ]
  },
  {
   "cell_type": "markdown",
   "metadata": {},
   "source": [
    "#### App Store data:"
   ]
  },
  {
   "cell_type": "markdown",
   "metadata": {},
   "source": [
    "In order to find the free apps, we will use the 'Price' column. If the price equals zero, then we know it's a free app. To get the free apps, we loop through the data, check the price, and decide or not to add it to a new free app dataset. If it's a paid app, we add the name to another list for reference."
   ]
  },
  {
   "cell_type": "code",
   "execution_count": 27,
   "metadata": {},
   "outputs": [],
   "source": [
    "free_english_app_store_data = []\n",
    "paid_apps = []\n",
    "\n",
    "for row in english_app_store_data:\n",
    "    app_name = row[1]\n",
    "    price = float(row[4])\n",
    "    if price == 0:\n",
    "        free_english_app_store_data.append(row)\n",
    "    else:\n",
    "        paid_apps.append(app_name)"
   ]
  },
  {
   "cell_type": "markdown",
   "metadata": {},
   "source": [
    "We now print the number of free and paid apps for reference."
   ]
  },
  {
   "cell_type": "code",
   "execution_count": 28,
   "metadata": {},
   "outputs": [
    {
     "name": "stdout",
     "output_type": "stream",
     "text": [
      "Num. of free apps: 3220\n",
      "Num. of paid apps: 2961\n"
     ]
    }
   ],
   "source": [
    "print('Num. of free apps: {}'.format(len(free_english_app_store_data)))\n",
    "print('Num. of paid apps: {}'.format(len(paid_apps)))"
   ]
  },
  {
   "cell_type": "markdown",
   "metadata": {},
   "source": [
    "#### Google Store dataset:"
   ]
  },
  {
   "cell_type": "markdown",
   "metadata": {},
   "source": [
    "In order to find the free apps, we will use the 'Type' column, which defines the app as 'Free' or 'Paid'. We loop through the data and check on this column, if it's free, we add it to a new free dataset, if it's not, we add the name to another list for reference."
   ]
  },
  {
   "cell_type": "code",
   "execution_count": 29,
   "metadata": {},
   "outputs": [],
   "source": [
    "free_english_google_store_data = []\n",
    "paid_apps = []\n",
    "\n",
    "for row in english_google_store_data:\n",
    "    app_name = row[0]\n",
    "    is_free = row[6] == 'Free'\n",
    "    if is_free:\n",
    "        free_english_google_store_data.append(row)\n",
    "    else:\n",
    "        paid_apps.append(app_name)"
   ]
  },
  {
   "cell_type": "markdown",
   "metadata": {},
   "source": [
    "We now print the number of free and paid apps for reference."
   ]
  },
  {
   "cell_type": "code",
   "execution_count": 30,
   "metadata": {},
   "outputs": [
    {
     "name": "stdout",
     "output_type": "stream",
     "text": [
      "Num. of free apps: 8863\n",
      "Num. of paid apps: 751\n"
     ]
    }
   ],
   "source": [
    "print('Num. of free apps: {}'.format(len(free_english_google_store_data)))\n",
    "print('Num. of paid apps: {}'.format(len(paid_apps)))"
   ]
  },
  {
   "cell_type": "markdown",
   "metadata": {},
   "source": [
    "-----------------------------"
   ]
  },
  {
   "cell_type": "markdown",
   "metadata": {},
   "source": [
    "## Starting the analysis\n",
    "\n",
    "### Most common genres:\n",
    "\n",
    "As an initial analysis, we might want to know what are the genres/types of apps that are most common in each respective store."
   ]
  },
  {
   "cell_type": "markdown",
   "metadata": {},
   "source": [
    "We create a function that will calculate the frequency percentage of each element in a certain column and return a dictionary with the results."
   ]
  },
  {
   "cell_type": "code",
   "execution_count": 31,
   "metadata": {},
   "outputs": [],
   "source": [
    "def get_frequency(dataset, column_index):\n",
    "    freq_dict = {}\n",
    "    for row in dataset:\n",
    "        value = row[column_index]\n",
    "        if value in freq_dict:\n",
    "            freq_dict[value] += 1\n",
    "        else:\n",
    "            freq_dict[value] = 1\n",
    "    \n",
    "    dataset_size = len(dataset)\n",
    "    for item in freq_dict:\n",
    "        freq_dict[item] = round((freq_dict[item] / dataset_size) * 100)\n",
    "    \n",
    "    return freq_dict"
   ]
  },
  {
   "cell_type": "markdown",
   "metadata": {},
   "source": [
    "We create a function that will display the top most frequent elements in a certain columns, by using the previous function to calculate the frequency."
   ]
  },
  {
   "cell_type": "code",
   "execution_count": 32,
   "metadata": {},
   "outputs": [],
   "source": [
    "def display_most_frequent(dataset, index, top_n):\n",
    "    table = get_frequency(dataset, index)\n",
    "    table_display = []\n",
    "    for key in table:\n",
    "        key_val_as_tuple = (table[key], key)\n",
    "        table_display.append(key_val_as_tuple)\n",
    "\n",
    "    table_sorted = sorted(table_display, reverse = True)\n",
    "    for entry in table_sorted[:top_n]:\n",
    "        print('{}: {}%'.format(entry[1],entry[0]))"
   ]
  },
  {
   "cell_type": "markdown",
   "metadata": {},
   "source": [
    "#### App Store data:"
   ]
  },
  {
   "cell_type": "markdown",
   "metadata": {},
   "source": [
    "We use the function to display the top 10 most frequent app genres in the App Store. As we can see, **games** are more that half of the apps in the App Store, followed by **entertainment** apps. "
   ]
  },
  {
   "cell_type": "code",
   "execution_count": 33,
   "metadata": {},
   "outputs": [
    {
     "name": "stdout",
     "output_type": "stream",
     "text": [
      "Top 10 Prime Genres:\n",
      "Games: 58%\n",
      "Entertainment: 8%\n",
      "Photo & Video: 5%\n",
      "Education: 4%\n",
      "Utilities: 3%\n",
      "Social Networking: 3%\n",
      "Shopping: 3%\n",
      "Sports: 2%\n",
      "Productivity: 2%\n",
      "Music: 2%\n"
     ]
    }
   ],
   "source": [
    "print('Top 10 Prime Genres:')\n",
    "display_most_frequent(free_english_app_store_data, 11, 10)"
   ]
  },
  {
   "cell_type": "markdown",
   "metadata": {},
   "source": [
    "#### Google Play Store data:"
   ]
  },
  {
   "cell_type": "markdown",
   "metadata": {},
   "source": [
    "We display the top 10 most frequent app genres in the Google Play Store and we can see that the situation is more balanced, although we can see **entertainment** apps as the second most frequent type of app, being only behind **tools** apps."
   ]
  },
  {
   "cell_type": "code",
   "execution_count": 34,
   "metadata": {},
   "outputs": [
    {
     "name": "stdout",
     "output_type": "stream",
     "text": [
      "Top 10 Genres:\n",
      "Tools: 8%\n",
      "Entertainment: 6%\n",
      "Education: 5%\n",
      "Business: 5%\n",
      "Productivity: 4%\n",
      "Medical: 4%\n",
      "Lifestyle: 4%\n",
      "Finance: 4%\n",
      "Sports: 3%\n",
      "Social: 3%\n"
     ]
    }
   ],
   "source": [
    "print('Top 10 Genres:')\n",
    "display_most_frequent(free_english_google_store_data, 9, 10)"
   ]
  },
  {
   "cell_type": "markdown",
   "metadata": {},
   "source": [
    "If we take a look at the categories, we can see that **family** apps are at the top, followed by **games** and then **tools**. "
   ]
  },
  {
   "cell_type": "code",
   "execution_count": 35,
   "metadata": {},
   "outputs": [
    {
     "name": "stdout",
     "output_type": "stream",
     "text": [
      "Top 10 Categories:\n",
      "FAMILY: 19%\n",
      "GAME: 10%\n",
      "TOOLS: 8%\n",
      "BUSINESS: 5%\n",
      "PRODUCTIVITY: 4%\n",
      "MEDICAL: 4%\n",
      "LIFESTYLE: 4%\n",
      "FINANCE: 4%\n",
      "SPORTS: 3%\n",
      "SOCIAL: 3%\n"
     ]
    }
   ],
   "source": [
    "print('Top 10 Categories:')\n",
    "display_most_frequent(free_english_google_store_data, 1, 10)"
   ]
  },
  {
   "cell_type": "markdown",
   "metadata": {},
   "source": [
    "**Summary:** In the App Store, we noticed that the dominant genres are games and entertainment apps. In the Google Store, the results are more balanced in terms of types of apps that are more frequent; however, we can still see that entertainment apps and games are also at the top.\n",
    "\n",
    "From this quick analysis, we could think about creating a game app, whose focus is bringing entertainment to families. "
   ]
  },
  {
   "cell_type": "markdown",
   "metadata": {},
   "source": [
    "### Number of users per genre:\n",
    "As a second and more useful analysis, we will take a look at the number of users that each app genre/type has. If our focus is to profit from advertising in our app, we should focust on getting more users to use our app. So instead of checking which genres are more common in each store, let's check what genres peope use more."
   ]
  },
  {
   "cell_type": "markdown",
   "metadata": {},
   "source": [
    "#### App Store data:"
   ]
  },
  {
   "cell_type": "markdown",
   "metadata": {},
   "source": [
    "We use our function to get the frequency of the prime genres, although at this point we won't care about the frequency itself."
   ]
  },
  {
   "cell_type": "code",
   "execution_count": 36,
   "metadata": {},
   "outputs": [],
   "source": [
    "prime_genre_freq_dict = get_frequency(free_english_app_store_data, 11)"
   ]
  },
  {
   "cell_type": "markdown",
   "metadata": {},
   "source": [
    "In order to calculate the amount of users that use a certain type of app, we will consider the number of ratings that each genre has. To do this, we will loop through the frequency dictionary to get the unique genres and for each unique genre, we will then loop through the actual app data. Everytime the genre of the current app matches the genre we are currently looking at, it will get the number of ratings, add them to the genre total ratings, and at the end, it will calculate the average number of ratings for each genre, as we are also counting the number of apps for each genre. "
   ]
  },
  {
   "cell_type": "code",
   "execution_count": 37,
   "metadata": {},
   "outputs": [],
   "source": [
    "genre_ratings = []\n",
    "\n",
    "for genre in prime_genre_freq_dict:\n",
    "    total_ratings = 0\n",
    "    num_apps = 0\n",
    "    for row in free_english_app_store_data:\n",
    "        app_genre = row[11]\n",
    "        if app_genre == genre:\n",
    "            ratings = float(row[5])\n",
    "            total_ratings += ratings\n",
    "            num_apps += 1\n",
    "    avg_num_ratings = round(total_ratings / num_apps)\n",
    "    genre_ratings.append((avg_num_ratings, genre))"
   ]
  },
  {
   "cell_type": "markdown",
   "metadata": {},
   "source": [
    "Here we sort the genres from most used to least used and then print the top 10. We can see that **navigation** is the most used, followed by **reference** and **social networking**. This shows a totally different scenario from the previous analysis, as we can see that games and entertainment apps are not really used. "
   ]
  },
  {
   "cell_type": "code",
   "execution_count": 38,
   "metadata": {},
   "outputs": [
    {
     "name": "stdout",
     "output_type": "stream",
     "text": [
      "Top 10 Most Used Genres:\n",
      "Navigation: 86090\n",
      "Reference: 74942\n",
      "Social Networking: 71548\n",
      "Music: 57327\n",
      "Weather: 52280\n",
      "Book: 39758\n",
      "Food & Drink: 33334\n",
      "Finance: 31468\n",
      "Photo & Video: 28442\n",
      "Travel: 28244\n"
     ]
    }
   ],
   "source": [
    "sorted_genre_ratings = sorted(genre_ratings,reverse=True)\n",
    "print('Top 10 Most Used Genres:')\n",
    "for entry in sorted_genre_ratings[:10]:\n",
    "        print('{}: {}'.format(entry[1],entry[0]))"
   ]
  },
  {
   "cell_type": "markdown",
   "metadata": {},
   "source": [
    "#### Google Play Store data:"
   ]
  },
  {
   "cell_type": "markdown",
   "metadata": {},
   "source": [
    "In order to calculate the number of users that a certain genre has, we will use the 'Installs' column. The numbers are not exact, as the values show, for example '100,000+' or '1,000,000+', but we will convert these values into numbers and get an idea of the amount of users each genre has.\n",
    "\n",
    "We create a function that will loop through the keys of a dictionary (where we will use 'Genre' and 'Category' from our dataset), get the number of installs for each feature and calculate the average. "
   ]
  },
  {
   "cell_type": "code",
   "execution_count": 39,
   "metadata": {},
   "outputs": [],
   "source": [
    "def calculate_most_used(freq_dict, col_index):\n",
    "    total_installs = []\n",
    "    for key in freq_dict:\n",
    "        installs_count = 0\n",
    "        num_apps = 0\n",
    "        for row in free_english_google_store_data:\n",
    "            feature = row[col_index]\n",
    "            if feature == key:\n",
    "                installs = row[5]\n",
    "                installs = installs.replace('+','')\n",
    "                installs = installs.replace(',','')\n",
    "                installs = float(installs)\n",
    "                installs_count += installs\n",
    "                num_apps += 1\n",
    "        avg_num_installs = round(installs_count / num_apps)\n",
    "        total_installs.append((avg_num_installs, key))\n",
    "    return total_installs"
   ]
  },
  {
   "cell_type": "markdown",
   "metadata": {},
   "source": [
    "We get the frequency of the genres to obtain every genre without duplicates, then we calculate the most used genres with the previous function, and finally sort the list from most used to least used genres. "
   ]
  },
  {
   "cell_type": "code",
   "execution_count": 40,
   "metadata": {},
   "outputs": [],
   "source": [
    "genres_freq_dict = get_frequency(free_english_google_store_data, 9)\n",
    "most_used_genres = calculate_most_used(genres_freq_dict, 9)\n",
    "sorted_most_used_genres = sorted(most_used_genres, reverse=True)"
   ]
  },
  {
   "cell_type": "markdown",
   "metadata": {},
   "source": [
    "We print the top 10 most used genres, where we can see that **communication** is the most used one. "
   ]
  },
  {
   "cell_type": "code",
   "execution_count": 41,
   "metadata": {},
   "outputs": [
    {
     "name": "stdout",
     "output_type": "stream",
     "text": [
      "Top 10 Most Used Genres:\n",
      "Communication: 38456119\n",
      "Adventure;Action & Adventure: 35333333\n",
      "Video Players & Editors: 24947336\n",
      "Social: 23253652\n",
      "Arcade: 22888365\n",
      "Casual: 19569222\n",
      "Puzzle;Action & Adventure: 18366667\n",
      "Photography: 17840110\n",
      "Educational;Action & Adventure: 17016667\n",
      "Productivity: 16787331\n"
     ]
    }
   ],
   "source": [
    "print('Top 10 Most Used Genres:')\n",
    "for entry in sorted_most_used_genres[:10]:\n",
    "        print('{}: {}'.format(entry[1],entry[0]))"
   ]
  },
  {
   "cell_type": "markdown",
   "metadata": {},
   "source": [
    "Now we get the frequency of the categories to obtain each unique value, then we calculate the most used categories, and sort the list from most used to least used. "
   ]
  },
  {
   "cell_type": "code",
   "execution_count": 42,
   "metadata": {},
   "outputs": [],
   "source": [
    "category_freq_dict = get_frequency(free_english_google_store_data, 1)\n",
    "most_used_categories = calculate_most_used(category_freq_dict, 1)\n",
    "sorted_most_used_categories = sorted(most_used_categories, reverse=True)"
   ]
  },
  {
   "cell_type": "markdown",
   "metadata": {},
   "source": [
    "We print the top 10 most used categories, where we can see that **communication** is also the most used. "
   ]
  },
  {
   "cell_type": "code",
   "execution_count": 43,
   "metadata": {},
   "outputs": [
    {
     "name": "stdout",
     "output_type": "stream",
     "text": [
      "Top 10 Most Used Categories:\n",
      "COMMUNICATION: 38456119\n",
      "VIDEO_PLAYERS: 24727872\n",
      "SOCIAL: 23253652\n",
      "PHOTOGRAPHY: 17840110\n",
      "PRODUCTIVITY: 16787331\n",
      "GAME: 15588016\n",
      "TRAVEL_AND_LOCAL: 13984078\n",
      "ENTERTAINMENT: 11640706\n",
      "TOOLS: 10801391\n",
      "NEWS_AND_MAGAZINES: 9549178\n"
     ]
    }
   ],
   "source": [
    "print('Top 10 Most Used Categories:')\n",
    "for entry in sorted_most_used_categories[:10]:\n",
    "        print('{}: {}'.format(entry[1],entry[0]))"
   ]
  },
  {
   "cell_type": "markdown",
   "metadata": {},
   "source": [
    "**Summary:** From the most used genres/types of apps, we can see that usually the very top categories have really well-known apps. For example, if we think of Communication, we can think of apps like WhatsApp Messenger or Facebook Messenger; for Social Networking, we can think of Facebook, Twitter or Instagram; and for Navigation, we can think of Google Maps, Waze or Apple Maps. These are all genres or categories that would be really hard to compete on, so we should consider lower genres for our app.\n",
    "\n",
    "A category or genre that appears to be used frequently in both stores is **video and photography** and it seems like there are not so many options available in the market, according to the frequency lists, as this genre don't appear in the Google Play Store ones. \n",
    "\n",
    "Because of these discoveries, we could think about creating an app for video and photography, possibly with editing options for both as well. It would have slightly more competition in the App Store, but it has a higher chance of success for the Google Play Store app. So, according to our analysis, we could think about developing an app in this category. "
   ]
  }
 ],
 "metadata": {
  "kernelspec": {
   "display_name": "Python 3",
   "language": "python",
   "name": "python3"
  },
  "language_info": {
   "codemirror_mode": {
    "name": "ipython",
    "version": 3
   },
   "file_extension": ".py",
   "mimetype": "text/x-python",
   "name": "python",
   "nbconvert_exporter": "python",
   "pygments_lexer": "ipython3",
   "version": "3.7.6"
  }
 },
 "nbformat": 4,
 "nbformat_minor": 4
}
