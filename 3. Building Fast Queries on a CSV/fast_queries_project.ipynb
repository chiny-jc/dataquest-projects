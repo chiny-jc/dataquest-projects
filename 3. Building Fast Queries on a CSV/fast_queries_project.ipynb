{
 "cells": [
  {
   "cell_type": "markdown",
   "metadata": {},
   "source": [
    "# Building Fast Queries on a CSV"
   ]
  },
  {
   "cell_type": "markdown",
   "metadata": {},
   "source": [
    "In this project, we are going to pretend that we have a laptop store and the corresponding inventory dataset. We will create three different queries and then find a way to optimize them. "
   ]
  },
  {
   "cell_type": "markdown",
   "metadata": {},
   "source": [
    "-----------"
   ]
  },
  {
   "cell_type": "markdown",
   "metadata": {},
   "source": [
    "## Opening and exploring the data"
   ]
  },
  {
   "cell_type": "markdown",
   "metadata": {},
   "source": [
    "We import the necessary libraries."
   ]
  },
  {
   "cell_type": "code",
   "execution_count": 1,
   "metadata": {},
   "outputs": [],
   "source": [
    "import csv, time, random"
   ]
  },
  {
   "cell_type": "markdown",
   "metadata": {},
   "source": [
    "We open the file and save the header and body of the data separately. "
   ]
  },
  {
   "cell_type": "code",
   "execution_count": 2,
   "metadata": {},
   "outputs": [],
   "source": [
    "with open('laptops.csv') as file:\n",
    "    read_file = list(csv.reader(file))\n",
    "    header = read_file[0]\n",
    "    rows = read_file[1:]"
   ]
  },
  {
   "cell_type": "markdown",
   "metadata": {},
   "source": [
    "We print the header and the first five rows to take a look at the data."
   ]
  },
  {
   "cell_type": "code",
   "execution_count": 3,
   "metadata": {},
   "outputs": [
    {
     "name": "stdout",
     "output_type": "stream",
     "text": [
      "['', 'Company', 'Product', 'TypeName', 'Inches', 'ScreenResolution', 'Cpu', 'Ram', 'Memory', 'Gpu', 'OpSys', 'Weight', 'Price_euros']\n",
      "['1', 'Apple', 'MacBook Pro', 'Ultrabook', '13.3', 'IPS Panel Retina Display 2560x1600', 'Intel Core i5 2.3GHz', '8GB', '128GB SSD', 'Intel Iris Plus Graphics 640', 'macOS', '1.37kg', '1339.69']\n",
      "['2', 'Apple', 'Macbook Air', 'Ultrabook', '13.3', '1440x900', 'Intel Core i5 1.8GHz', '8GB', '128GB Flash Storage', 'Intel HD Graphics 6000', 'macOS', '1.34kg', '898.94']\n",
      "['3', 'HP', '250 G6', 'Notebook', '15.6', 'Full HD 1920x1080', 'Intel Core i5 7200U 2.5GHz', '8GB', '256GB SSD', 'Intel HD Graphics 620', 'No OS', '1.86kg', '575.00']\n",
      "['4', 'Apple', 'MacBook Pro', 'Ultrabook', '15.4', 'IPS Panel Retina Display 2880x1800', 'Intel Core i7 2.7GHz', '16GB', '512GB SSD', 'AMD Radeon Pro 455', 'macOS', '1.83kg', '2537.45']\n",
      "['5', 'Apple', 'MacBook Pro', 'Ultrabook', '13.3', 'IPS Panel Retina Display 2560x1600', 'Intel Core i5 3.1GHz', '8GB', '256GB SSD', 'Intel Iris Plus Graphics 650', 'macOS', '1.37kg', '1803.60']\n"
     ]
    }
   ],
   "source": [
    "print(header)\n",
    "\n",
    "for i in range(5):\n",
    "    print(rows[i])"
   ]
  },
  {
   "cell_type": "markdown",
   "metadata": {},
   "source": [
    "## Creating an Inventory class"
   ]
  },
  {
   "cell_type": "markdown",
   "metadata": {},
   "source": [
    "We create the base of the Inventory class, convert the prices into floats in the constructor, instantiate an object using the file 'laptops.csv', and then print the number of products that the inventory has. "
   ]
  },
  {
   "cell_type": "code",
   "execution_count": 4,
   "metadata": {},
   "outputs": [
    {
     "name": "stdout",
     "output_type": "stream",
     "text": [
      "Num. of products: 1303\n"
     ]
    }
   ],
   "source": [
    "class Inventory():\n",
    "    \n",
    "    def __init__(self, csv_filename):\n",
    "        with open(csv_filename) as file:\n",
    "            read_csv = csv.reader(file)\n",
    "            csv_as_list = list(read_csv)\n",
    "            self.header = csv_as_list[0]\n",
    "            self.rows = csv_as_list[1:]\n",
    "        \n",
    "        for row in self.rows:\n",
    "            price_float = float(row[-1])\n",
    "            row[-1] = price_float\n",
    "            \n",
    "\n",
    "inventory = Inventory('laptops.csv')\n",
    "print('Num. of products: {}'.format(len(inventory.rows)))"
   ]
  },
  {
   "cell_type": "markdown",
   "metadata": {},
   "source": [
    "### Finding a laptop from the ID"
   ]
  },
  {
   "cell_type": "markdown",
   "metadata": {},
   "source": [
    "We implement two new functions: ```get_laptop_from_id()``` and ```get_laptop_from_id_fast()```. The first function loops through the whole dataset until it finds the item with the corresponding id, while the second one looks for the id in a dictionary previously created in the constructor."
   ]
  },
  {
   "cell_type": "code",
   "execution_count": 5,
   "metadata": {},
   "outputs": [],
   "source": [
    "class Inventory():\n",
    "    \n",
    "    def __init__(self, csv_filename):\n",
    "        with open(csv_filename) as file:\n",
    "            read_csv = csv.reader(file)\n",
    "            csv_as_list = list(read_csv)\n",
    "            self.header = csv_as_list[0]\n",
    "            self.rows = csv_as_list[1:]\n",
    "        \n",
    "        for row in self.rows:\n",
    "            price_float = float(row[-1])\n",
    "            row[-1] = price_float\n",
    "            \n",
    "        self.id_to_row = {}\n",
    "        for row in self.rows:\n",
    "            row_id = row[0]\n",
    "            self.id_to_row[row_id] = row\n",
    "            \n",
    "    def get_laptop_from_id(self, laptop_id):\n",
    "        for row in self.rows:\n",
    "            id_value = row[0]\n",
    "            if id_value == laptop_id:\n",
    "                return row\n",
    "        return None\n",
    "    \n",
    "    def get_laptop_from_id_fast(self, laptop_id):\n",
    "        if laptop_id in self.id_to_row:\n",
    "            return self.id_to_row[laptop_id]\n",
    "        else:\n",
    "            return None\n",
    "        \n",
    "        \n",
    "inventory = Inventory('laptops.csv')"
   ]
  },
  {
   "cell_type": "markdown",
   "metadata": {},
   "source": [
    "#### Testing the code: "
   ]
  },
  {
   "cell_type": "markdown",
   "metadata": {},
   "source": [
    "We test the first function with two id's to see if it works. "
   ]
  },
  {
   "cell_type": "code",
   "execution_count": 6,
   "metadata": {},
   "outputs": [
    {
     "name": "stdout",
     "output_type": "stream",
     "text": [
      "['1230', 'MSI', 'GS73VR Stealth', 'Gaming', '17.3', 'IPS Panel Full HD 1920x1080', 'Intel Core i7 6700HQ 2.6GHz', '16GB', '256GB SSD +  1TB HDD', 'Nvidia GeForce GTX 1060', 'Windows 10', '2.43kg', 1948.99]\n",
      "None\n"
     ]
    }
   ],
   "source": [
    "print(inventory.get_laptop_from_id('1230'))\n",
    "print(inventory.get_laptop_from_id('1330'))"
   ]
  },
  {
   "cell_type": "markdown",
   "metadata": {},
   "source": [
    "We test the second function with the same two id's to see if it gives the same results."
   ]
  },
  {
   "cell_type": "code",
   "execution_count": 7,
   "metadata": {},
   "outputs": [
    {
     "name": "stdout",
     "output_type": "stream",
     "text": [
      "['1230', 'MSI', 'GS73VR Stealth', 'Gaming', '17.3', 'IPS Panel Full HD 1920x1080', 'Intel Core i7 6700HQ 2.6GHz', '16GB', '256GB SSD +  1TB HDD', 'Nvidia GeForce GTX 1060', 'Windows 10', '2.43kg', 1948.99]\n",
      "None\n"
     ]
    }
   ],
   "source": [
    "print(inventory.get_laptop_from_id_fast('1230'))\n",
    "print(inventory.get_laptop_from_id_fast('1330'))"
   ]
  },
  {
   "cell_type": "markdown",
   "metadata": {},
   "source": [
    "#### Comparing performance:"
   ]
  },
  {
   "cell_type": "markdown",
   "metadata": {},
   "source": [
    "We now time both functions with 10,000 random id's to see how long both functions take to run and then compare their performance."
   ]
  },
  {
   "cell_type": "code",
   "execution_count": 8,
   "metadata": {},
   "outputs": [
    {
     "name": "stdout",
     "output_type": "stream",
     "text": [
      "Time Without Dictionary: 0.3811807632446289\n",
      "Time With Dictionary: 0.0020210742950439453\n"
     ]
    }
   ],
   "source": [
    "ids = [str(random.randint(1,2600)) for _ in range(10000)]\n",
    "\n",
    "total_time_no_dict = 0\n",
    "\n",
    "for identifier in ids:\n",
    "    start = time.time()\n",
    "    inventory.get_laptop_from_id(identifier)\n",
    "    end = time.time()\n",
    "    runtime = end - start\n",
    "    total_time_no_dict += runtime\n",
    "    \n",
    "print('Time Without Dictionary: {}'.format(total_time_no_dict))\n",
    "\n",
    "\n",
    "total_time_dict = 0\n",
    "\n",
    "for identifier in ids:\n",
    "    start = time.time()\n",
    "    inventory.get_laptop_from_id_fast(identifier)\n",
    "    end = time.time()\n",
    "    runtime = end - start\n",
    "    total_time_dict += runtime\n",
    "    \n",
    "print('Time With Dictionary: {}'.format(total_time_dict))"
   ]
  },
  {
   "cell_type": "markdown",
   "metadata": {},
   "source": [
    "By looking at the results, we can see that the second function (with the dictionary implementation) is almost 200 times faster. "
   ]
  },
  {
   "cell_type": "code",
   "execution_count": 9,
   "metadata": {},
   "outputs": [
    {
     "name": "stdout",
     "output_type": "stream",
     "text": [
      "Improvement: 188.6 x faster\n"
     ]
    }
   ],
   "source": [
    "improvement = round(total_time_no_dict / total_time_dict, 2)\n",
    "print('Improvement: {} x faster'.format(improvement))"
   ]
  },
  {
   "cell_type": "markdown",
   "metadata": {},
   "source": [
    "### Finding laptops for promotion"
   ]
  },
  {
   "cell_type": "markdown",
   "metadata": {},
   "source": [
    "We implement two new functions: ```check_promotion_dollars()``` and ```check_promotion_dollars_fast()```. The first function loops through the data once, if a single computer costs the exact amount, or twice in a double loop, to find if the sum of two computer prices reach the exact price; the second function finds if a single computer covers the exact price, by using a set previously created in the constructor, or loops through the data once and calculates the difference between the target cost and the price of the current computer, which then looks if the difference is found in the set (which would mean that there are two computers that cover the whole price)."
   ]
  },
  {
   "cell_type": "code",
   "execution_count": 10,
   "metadata": {},
   "outputs": [],
   "source": [
    "class Inventory():\n",
    "    \n",
    "    def __init__(self, csv_filename):\n",
    "        with open(csv_filename) as file:\n",
    "            read_csv = csv.reader(file)\n",
    "            csv_as_list = list(read_csv)\n",
    "            self.header = csv_as_list[0]\n",
    "            self.rows = csv_as_list[1:]\n",
    "        \n",
    "        for row in self.rows:\n",
    "            price_float = float(row[-1])\n",
    "            row[-1] = price_float\n",
    "            \n",
    "        self.prices = set()\n",
    "        for row in self.rows:\n",
    "            price = row[-1]\n",
    "            self.prices.add(price)\n",
    "        \n",
    "    def check_promotion_dollars(self, dollars):\n",
    "        for row in self.rows:\n",
    "            price = row[-1]\n",
    "            if price == dollars:\n",
    "                return True\n",
    "        for row_1 in self.rows:\n",
    "            price_1 = row_1[-1]\n",
    "            for row_2 in self.rows:\n",
    "                price_2 = row_2[-1]\n",
    "                price_sum = price_1 + price_2\n",
    "                if price_sum == dollars:\n",
    "                    return True\n",
    "        return False\n",
    "    \n",
    "    def check_promotion_dollars_fast(self, dollars):\n",
    "        if dollars in self.prices:\n",
    "            return True\n",
    "        for price in self.prices:\n",
    "            second_value = dollars - price\n",
    "            if second_value in self.prices:\n",
    "                return True\n",
    "        return False\n",
    "    \n",
    "    \n",
    "inventory = Inventory('laptops.csv')"
   ]
  },
  {
   "cell_type": "markdown",
   "metadata": {},
   "source": [
    "#### Testing the code:"
   ]
  },
  {
   "cell_type": "markdown",
   "metadata": {},
   "source": [
    "We test the code on the first function to see if it works. "
   ]
  },
  {
   "cell_type": "code",
   "execution_count": 11,
   "metadata": {},
   "outputs": [
    {
     "name": "stdout",
     "output_type": "stream",
     "text": [
      "True\n",
      "False\n"
     ]
    }
   ],
   "source": [
    "print(inventory.check_promotion_dollars(1000))\n",
    "print(inventory.check_promotion_dollars(442))"
   ]
  },
  {
   "cell_type": "markdown",
   "metadata": {},
   "source": [
    "We test the code on the second function to see if it gives the same results."
   ]
  },
  {
   "cell_type": "code",
   "execution_count": 12,
   "metadata": {},
   "outputs": [
    {
     "name": "stdout",
     "output_type": "stream",
     "text": [
      "True\n",
      "False\n"
     ]
    }
   ],
   "source": [
    "print(inventory.check_promotion_dollars_fast(1000))\n",
    "print(inventory.check_promotion_dollars_fast(442))"
   ]
  },
  {
   "cell_type": "markdown",
   "metadata": {},
   "source": [
    "#### Comparing performance:"
   ]
  },
  {
   "cell_type": "markdown",
   "metadata": {},
   "source": [
    "We now time both functions with 100 random prices to see how long both functions take to run and then compare their performance."
   ]
  },
  {
   "cell_type": "code",
   "execution_count": 13,
   "metadata": {},
   "outputs": [
    {
     "name": "stdout",
     "output_type": "stream",
     "text": [
      "Time Without Set: 1.206334114074707\n",
      "Time With Set: 0.0010371208190917969\n"
     ]
    }
   ],
   "source": [
    "prices = [random.randint(100,5000) for _ in range(100)]\n",
    "\n",
    "total_time_no_set = 0\n",
    "\n",
    "for price in prices:\n",
    "    start = time.time()\n",
    "    inventory.check_promotion_dollars(price)\n",
    "    end = time.time()\n",
    "    runtime = end - start\n",
    "    total_time_no_set += runtime\n",
    "    \n",
    "print('Time Without Set: {}'.format(total_time_no_set))\n",
    "\n",
    "\n",
    "total_time_set = 0\n",
    "\n",
    "for price in prices:\n",
    "    start = time.time()\n",
    "    inventory.check_promotion_dollars_fast(price)\n",
    "    end = time.time()\n",
    "    runtime = end - start\n",
    "    total_time_set += runtime\n",
    "    \n",
    "print('Time With Set: {}'.format(total_time_set))"
   ]
  },
  {
   "cell_type": "markdown",
   "metadata": {},
   "source": [
    "By looking at the results, we can see that the second function (with the set implementation) is almost 1,200 times faster. "
   ]
  },
  {
   "cell_type": "code",
   "execution_count": 14,
   "metadata": {},
   "outputs": [
    {
     "name": "stdout",
     "output_type": "stream",
     "text": [
      "Improvement: 1163.16 x faster\n"
     ]
    }
   ],
   "source": [
    "improvement = round(total_time_no_set / total_time_set, 2)\n",
    "print('Improvement: {} x faster'.format(improvement))"
   ]
  },
  {
   "cell_type": "markdown",
   "metadata": {},
   "source": [
    "### Finding laptops within a budget"
   ]
  },
  {
   "cell_type": "markdown",
   "metadata": {},
   "source": [
    "First, we create a new list which is sorted by price. Then, we implement two new functions: ```find_first_laptop_more_expensive()``` and ```find_first_laptop_more_expensive_fast()```. The first function will loop through the data until it finds the first price that's higher that the given amount, which means that all the previous computers fit within the budget. The second function implements a binary search, which divides the list range by half everytime, until it finds the index where the laptop price is higher than the given amount. "
   ]
  },
  {
   "cell_type": "code",
   "execution_count": 15,
   "metadata": {},
   "outputs": [],
   "source": [
    "def get_price(row):\n",
    "        return row[-1]\n",
    "\n",
    "class Inventory():\n",
    "    \n",
    "    def __init__(self, csv_filename):\n",
    "        with open(csv_filename) as file:\n",
    "            read_csv = csv.reader(file)\n",
    "            csv_as_list = list(read_csv)\n",
    "            self.header = csv_as_list[0]\n",
    "            self.rows = csv_as_list[1:]\n",
    "        \n",
    "        for row in self.rows:\n",
    "            price_float = float(row[-1])\n",
    "            row[-1] = price_float\n",
    "            \n",
    "        self.rows_by_price = sorted(self.rows, key=get_price)\n",
    "    \n",
    "    def find_first_laptop_more_expensive(self, target_price):\n",
    "        start_index = 0\n",
    "        for row in self.rows_by_price:\n",
    "            price = row[-1]\n",
    "            if price > target_price:\n",
    "                return start_index\n",
    "            start_index += 1\n",
    "        return -1\n",
    "    \n",
    "    def find_first_laptop_more_expensive_fast(self, target_price):\n",
    "        range_start = 0\n",
    "        range_end = len(self.rows_by_price) - 1\n",
    "        while range_start < range_end:\n",
    "            range_middle = (range_start + range_end) // 2\n",
    "            price = self.rows_by_price[range_middle][-1]\n",
    "            if price > target_price:\n",
    "                range_end = range_middle\n",
    "            else:\n",
    "                range_start = range_middle + 1\n",
    "        price = self.rows_by_price[range_start][-1]\n",
    "        if target_price > price:\n",
    "            return -1\n",
    "        return range_start\n",
    "    \n",
    "inventory = Inventory('laptops.csv')"
   ]
  },
  {
   "cell_type": "markdown",
   "metadata": {},
   "source": [
    "#### Testing the code:"
   ]
  },
  {
   "cell_type": "markdown",
   "metadata": {},
   "source": [
    "We test the first function to see if it works."
   ]
  },
  {
   "cell_type": "code",
   "execution_count": 16,
   "metadata": {},
   "outputs": [
    {
     "name": "stdout",
     "output_type": "stream",
     "text": [
      "683\n",
      "-1\n"
     ]
    }
   ],
   "source": [
    "print(inventory.find_first_laptop_more_expensive(1000))\n",
    "print(inventory.find_first_laptop_more_expensive(10000))"
   ]
  },
  {
   "cell_type": "markdown",
   "metadata": {},
   "source": [
    "We test the second function to see if it gives the same results."
   ]
  },
  {
   "cell_type": "code",
   "execution_count": 17,
   "metadata": {},
   "outputs": [
    {
     "name": "stdout",
     "output_type": "stream",
     "text": [
      "683\n",
      "-1\n"
     ]
    }
   ],
   "source": [
    "print(inventory.find_first_laptop_more_expensive_fast(1000))\n",
    "print(inventory.find_first_laptop_more_expensive_fast(10000))"
   ]
  },
  {
   "cell_type": "markdown",
   "metadata": {},
   "source": [
    "#### Comparing performance:"
   ]
  },
  {
   "cell_type": "markdown",
   "metadata": {},
   "source": [
    "We now time both functions with 100 random prices to see how long both functions take to run and then compare their performance."
   ]
  },
  {
   "cell_type": "code",
   "execution_count": 20,
   "metadata": {},
   "outputs": [
    {
     "name": "stdout",
     "output_type": "stream",
     "text": [
      "Time Without Binary Search: 0.011513948440551758\n",
      "Time With Binary Search: 0.0010018348693847656\n"
     ]
    }
   ],
   "source": [
    "prices = [random.randint(100,5000) for _ in range(100)]\n",
    "\n",
    "total_time_no_binary_search = 0\n",
    "\n",
    "for price in prices:\n",
    "    start = time.time()\n",
    "    inventory.find_first_laptop_more_expensive(price)\n",
    "    end = time.time()\n",
    "    runtime = end - start\n",
    "    total_time_no_binary_search += runtime\n",
    "    \n",
    "print('Time Without Binary Search: {}'.format(total_time_no_binary_search))\n",
    "\n",
    "\n",
    "total_time_binary_search = 0\n",
    "\n",
    "for price in prices:\n",
    "    start = time.time()\n",
    "    inventory.find_first_laptop_more_expensive_fast(price)\n",
    "    end = time.time()\n",
    "    runtime = end - start\n",
    "    total_time_binary_search += runtime\n",
    "    \n",
    "print('Time With Binary Search: {}'.format(total_time_binary_search))"
   ]
  },
  {
   "cell_type": "markdown",
   "metadata": {},
   "source": [
    "By looking at the results, we can see that the second function (with binary search implementation) is over 10 times faster. "
   ]
  },
  {
   "cell_type": "code",
   "execution_count": 21,
   "metadata": {},
   "outputs": [
    {
     "name": "stdout",
     "output_type": "stream",
     "text": [
      "Improvement: 11.49 x faster\n"
     ]
    }
   ],
   "source": [
    "improvement = round(total_time_no_binary_search / total_time_binary_search, 2)\n",
    "print('Improvement: {} x faster'.format(improvement))"
   ]
  },
  {
   "cell_type": "markdown",
   "metadata": {},
   "source": [
    "## Defining the final Inventory class"
   ]
  },
  {
   "cell_type": "markdown",
   "metadata": {},
   "source": [
    "We now put together the Inventory class with the most efficience methods."
   ]
  },
  {
   "cell_type": "code",
   "execution_count": 22,
   "metadata": {},
   "outputs": [],
   "source": [
    "def get_price(row):\n",
    "        return row[-1]\n",
    "\n",
    "class Inventory():\n",
    "    \n",
    "    def __init__(self, csv_filename):\n",
    "        with open(csv_filename) as file:\n",
    "            read_csv = csv.reader(file)\n",
    "            csv_as_list = list(read_csv)\n",
    "            self.header = csv_as_list[0]\n",
    "            self.rows = csv_as_list[1:]\n",
    "        \n",
    "        for row in self.rows:\n",
    "            price_float = float(row[-1])\n",
    "            row[-1] = price_float\n",
    "            \n",
    "        self.id_to_row = {}\n",
    "        for row in self.rows:\n",
    "            row_id = row[0]\n",
    "            self.id_to_row[row_id] = row\n",
    "            \n",
    "        self.prices = set()\n",
    "        for row in self.rows:\n",
    "            price = row[-1]\n",
    "            self.prices.add(price)\n",
    "            \n",
    "        self.rows_by_price = sorted(self.rows, key=get_price)\n",
    "            \n",
    "    def get_laptop_from_id_fast(self, laptop_id):\n",
    "        if laptop_id in self.id_to_row:\n",
    "            return self.id_to_row[laptop_id]\n",
    "        else:\n",
    "            return None\n",
    "        \n",
    "    def check_promotion_dollars_fast(self, dollars):\n",
    "        if dollars in self.prices:\n",
    "            return True\n",
    "        for price in self.prices:\n",
    "            second_value = dollars - price\n",
    "            if second_value in self.prices:\n",
    "                return True\n",
    "        return False\n",
    "            \n",
    "    def find_first_laptop_more_expensive_fast(self, target_price):\n",
    "        range_start = 0\n",
    "        range_end = len(self.rows_by_price) - 1\n",
    "        while range_start < range_end:\n",
    "            range_middle = (range_start + range_end) // 2\n",
    "            price = self.rows_by_price[range_middle][-1]\n",
    "            if price > target_price:\n",
    "                range_end = range_middle\n",
    "            else:\n",
    "                range_start = range_middle + 1\n",
    "        price = self.rows_by_price[range_start][-1]\n",
    "        if target_price > price:\n",
    "            return -1\n",
    "        return range_start"
   ]
  }
 ],
 "metadata": {
  "kernelspec": {
   "display_name": "Python 3",
   "language": "python",
   "name": "python3"
  },
  "language_info": {
   "codemirror_mode": {
    "name": "ipython",
    "version": 3
   },
   "file_extension": ".py",
   "mimetype": "text/x-python",
   "name": "python",
   "nbconvert_exporter": "python",
   "pygments_lexer": "ipython3",
   "version": "3.7.6"
  }
 },
 "nbformat": 4,
 "nbformat_minor": 4
}
